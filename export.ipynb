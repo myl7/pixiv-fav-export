{
 "cells": [
  {
   "cell_type": "code",
   "execution_count": 1,
   "id": "b30d5d48",
   "metadata": {},
   "outputs": [],
   "source": [
    "from dotenv import load_dotenv\n",
    "\n",
    "assert load_dotenv()"
   ]
  },
  {
   "cell_type": "code",
   "execution_count": 40,
   "id": "99405e2e-480f-474a-9289-176d0d916382",
   "metadata": {},
   "outputs": [],
   "source": [
    "import os\n",
    "from gppt import GetPixivToken\n",
    "from pixivpy3 import AppPixivAPI\n",
    "\n",
    "\n",
    "def get_refresh_token() -> str:\n",
    "    try:\n",
    "        with open(\"export/refresh_token.txt\") as f:\n",
    "            if refresh_token := f.read().strip():\n",
    "                return refresh_token\n",
    "    except FileNotFoundError:\n",
    "        pass\n",
    "\n",
    "    g = GetPixivToken(headless=True)\n",
    "    username = os.getenv(\"PIXIV_USERNAME\")\n",
    "    password = os.getenv(\"PIXIV_PASSWORD\")\n",
    "    refresh_token = g.login(username=username, password=password)[\"refresh_token\"]\n",
    "    with open(\"export/refresh_token.txt\", \"w\") as f:\n",
    "        f.write(refresh_token)\n",
    "    return refresh_token\n",
    "\n",
    "\n",
    "aapi = AppPixivAPI()\n",
    "aapi.auth(refresh_token=get_refresh_token());"
   ]
  },
  {
   "cell_type": "code",
   "execution_count": 41,
   "id": "9650cf0e-020e-4f9c-aa8d-fae5aaf51a76",
   "metadata": {},
   "outputs": [],
   "source": [
    "# Config\n",
    "USER_ID = 18218607"
   ]
  },
  {
   "cell_type": "code",
   "execution_count": 42,
   "id": "7634699e-916f-4e47-9385-3f71398fa1ee",
   "metadata": {},
   "outputs": [],
   "source": [
    "def handle_err(res):\n",
    "    if \"error\" in res:\n",
    "        print(\"error:\", res.error)\n",
    "        return True\n",
    "    else:\n",
    "        return False"
   ]
  },
  {
   "cell_type": "code",
   "execution_count": null,
   "id": "c4a3afdb-d33c-4f5d-9877-0ba4fbbd3e69",
   "metadata": {},
   "outputs": [],
   "source": [
    "illusts = []\n",
    "qs = {\"user_id\": USER_ID}\n",
    "while qs is not None:\n",
    "    res = aapi.user_bookmarks_illust(**qs)\n",
    "    if handle_err(res):\n",
    "        print(\"qs:\", qs)\n",
    "        break\n",
    "    if res.illusts is not None:\n",
    "        illusts.extend(res.illusts)\n",
    "    qs = aapi.parse_qs(res.next_url)\n",
    "print(\"total illusts:\", len(illusts))"
   ]
  },
  {
   "cell_type": "code",
   "execution_count": null,
   "id": "00ac1eba-d255-4c83-86ed-3e12a6cafc16",
   "metadata": {},
   "outputs": [],
   "source": [
    "last_id = None\n",
    "try:\n",
    "    with open(\"export/last_id.txt\") as f:\n",
    "        if last_id_form_file := f.read().strip():\n",
    "            last_id = int(last_id_form_file)\n",
    "except FileNotFoundError:\n",
    "    pass\n",
    "print(\"last_id:\", last_id)\n",
    "\n",
    "last_illust_idx = None\n",
    "if last_id is not None:\n",
    "    for i, illust in enumerate(illusts):\n",
    "        if illust[\"id\"] == last_id:\n",
    "            last_illust_idx = i\n",
    "            break\n",
    "print(\"last_illust_idx:\", last_illust_idx)\n",
    "if last_illust_idx is not None:\n",
    "    illusts = illusts[:last_illust_idx]\n",
    "print(\"left illusts:\", len(illusts))\n"
   ]
  },
  {
   "cell_type": "code",
   "execution_count": 45,
   "id": "0aed488e-105a-466a-8b9d-644f4ad66824",
   "metadata": {},
   "outputs": [],
   "source": [
    "illust_urls = {}\n",
    "for illust in illusts:\n",
    "    if \"meta_pages\" in illust and len(illust[\"meta_pages\"]) > 0:\n",
    "        urls = []\n",
    "        for page in illust[\"meta_pages\"]:\n",
    "            if \"image_urls\" not in page:\n",
    "                print(page)\n",
    "            urls.append(page[\"image_urls\"][\"original\"])\n",
    "        illust_urls[illust[\"id\"]] = urls\n",
    "    else:\n",
    "        illust_urls[illust[\"id\"]] = [illust[\"meta_single_page\"][\"original_image_url\"]]"
   ]
  },
  {
   "cell_type": "code",
   "execution_count": 46,
   "id": "d783a3ea-0a5b-4903-b108-bb5a8b69d9db",
   "metadata": {},
   "outputs": [],
   "source": [
    "from pathlib import Path\n",
    "\n",
    "for i, (id, urls) in enumerate(illust_urls.items()):\n",
    "    if len(urls) <= 1:\n",
    "        try:\n",
    "            aapi.download(urls[0], path=\"export\")\n",
    "        except:\n",
    "            print(\"failed to download at idx %d id %s\" % (i, id))\n",
    "            raise\n",
    "    else:\n",
    "        path = Path(\"export\") / str(id)\n",
    "        path.mkdir(exist_ok=True)\n",
    "        for j, url in enumerate(urls):\n",
    "            try:\n",
    "                aapi.download(url, path=str(path))\n",
    "            except:\n",
    "                print(\"failed to download at idx %d-%d id %s\" % (i, j, id))\n",
    "                raise"
   ]
  },
  {
   "cell_type": "markdown",
   "id": "04902c71-0f12-4d56-88f0-33acd7146fbc",
   "metadata": {},
   "source": [
    "- Remove images with the `limit_` prefix manually, which are not illustrations\n",
    "- For images with the `_ugoira0` suffix manually, they are ugoiras and need special handling to get the zip pack\n"
   ]
  },
  {
   "cell_type": "code",
   "execution_count": null,
   "id": "35c05cce-e5ed-45ab-a495-3f067d7a507b",
   "metadata": {},
   "outputs": [],
   "source": [
    "ugoira_ids = [illust[\"id\"] for illust in illusts if illust[\"type\"] == \"ugoira\"]\n",
    "print(\"ugoiras:\", len(ugoira_ids))\n",
    "\n",
    "ugoiras = [aapi.ugoira_metadata(id)[\"ugoira_metadata\"] for id in ugoira_ids]\n",
    "ugoira_meta = {ugoira_ids[i]: ugoira for i, ugoira in enumerate(ugoiras)}\n",
    "ugoira_urls = {ugoira_ids[i]: ugoira[\"zip_urls\"][\"medium\"] for i, ugoira in enumerate(ugoiras)}\n",
    "# To get the original (or at least larger) ugoira\n",
    "ugoira_urls = {id: url.replace(\"600x600\", \"1920x1080\") for id, url in ugoira_urls.items()}"
   ]
  },
  {
   "cell_type": "code",
   "execution_count": 48,
   "id": "86cbe591-f2c1-41b0-8208-79a086c91657",
   "metadata": {},
   "outputs": [],
   "source": [
    "for i, (id, url) in enumerate(ugoira_urls.items()):\n",
    "    try:\n",
    "        aapi.download(url, path=\"export\")\n",
    "    except:\n",
    "        print(\"failed to download ugoira at idx %d id %s\" % (i, id))\n",
    "        raise"
   ]
  },
  {
   "cell_type": "code",
   "execution_count": 53,
   "id": "94724cf4",
   "metadata": {},
   "outputs": [],
   "source": [
    "import json\n",
    "\n",
    "if len(ugoira_ids) > 0:\n",
    "    saved_ugoira_meta = {}\n",
    "    try:\n",
    "        with open(\"export/fav_ugoira_meta.json\") as f:\n",
    "            saved_ugoira_meta = json.load(f)\n",
    "    except FileNotFoundError:\n",
    "        pass\n",
    "    saved_ugoira_meta.update(ugoira_meta)\n",
    "    with open(\"export/fav_ugoira_meta.json\", \"w\") as f:\n",
    "        json.dump(saved_ugoira_meta, f)"
   ]
  },
  {
   "cell_type": "code",
   "execution_count": 50,
   "id": "c3854bab",
   "metadata": {},
   "outputs": [],
   "source": [
    "if len(illusts) > 0:\n",
    "    saved_illusts = []\n",
    "    try:\n",
    "        with open(\"export/fav_illusts.json\") as f:\n",
    "            saved_illusts = json.load(f)\n",
    "    except FileNotFoundError:\n",
    "        pass\n",
    "    saved_illusts = illusts + saved_illusts\n",
    "    with open(\"export/fav_illusts.json\", \"w\") as f:\n",
    "        json.dump(saved_illusts, f)"
   ]
  },
  {
   "cell_type": "code",
   "execution_count": 51,
   "id": "4f705a30",
   "metadata": {},
   "outputs": [],
   "source": [
    "if len(illusts) > 0:\n",
    "    with open(\"export/last_id.txt\", \"w\") as f:\n",
    "        f.write(str(illusts[0][\"id\"]))"
   ]
  }
 ],
 "metadata": {
  "kernelspec": {
   "display_name": ".venv",
   "language": "python",
   "name": "python3"
  },
  "language_info": {
   "codemirror_mode": {
    "name": "ipython",
    "version": 3
   },
   "file_extension": ".py",
   "mimetype": "text/x-python",
   "name": "python",
   "nbconvert_exporter": "python",
   "pygments_lexer": "ipython3",
   "version": "3.13.2"
  }
 },
 "nbformat": 4,
 "nbformat_minor": 5
}
