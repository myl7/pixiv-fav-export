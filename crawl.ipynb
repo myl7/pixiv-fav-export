{
 "cells": [
  {
   "cell_type": "code",
   "execution_count": null,
   "id": "99405e2e-480f-474a-9289-176d0d916382",
   "metadata": {},
   "outputs": [],
   "source": [
    "import pixivpy3 as pixiv"
   ]
  },
  {
   "cell_type": "code",
   "execution_count": null,
   "id": "933fe74e-cb51-4f35-94f5-6aba8e01b857",
   "metadata": {},
   "outputs": [],
   "source": [
    "api = pixiv.AppPixivAPI()"
   ]
  },
  {
   "cell_type": "code",
   "execution_count": null,
   "id": "da5462e7-4c25-4f0f-92eb-f74b784af5d2",
   "metadata": {},
   "outputs": [],
   "source": [
    "api.auth(refresh_token='<...>')"
   ]
  },
  {
   "cell_type": "code",
   "execution_count": null,
   "id": "9650cf0e-020e-4f9c-aa8d-fae5aaf51a76",
   "metadata": {},
   "outputs": [],
   "source": [
    "USER_ID = 18218607"
   ]
  },
  {
   "cell_type": "code",
   "execution_count": null,
   "id": "7634699e-916f-4e47-9385-3f71398fa1ee",
   "metadata": {},
   "outputs": [],
   "source": [
    "def handle_err(res):\n",
    "    if 'error' in res:\n",
    "        print('error:', res.error)\n",
    "        return True\n",
    "    else:\n",
    "        return False"
   ]
  },
  {
   "cell_type": "code",
   "execution_count": null,
   "id": "c4a3afdb-d33c-4f5d-9877-0ba4fbbd3e69",
   "metadata": {},
   "outputs": [],
   "source": [
    "illusts = []\n",
    "qs = {'user_id': USER_ID}\n",
    "while qs is not None:\n",
    "    res = api.user_bookmarks_illust(**qs)\n",
    "    if handle_err(res):\n",
    "        print('qs:', qs)\n",
    "        break\n",
    "    if res.illusts is not None:\n",
    "        illusts.extend(res.illusts)\n",
    "    qs = api.parse_qs(res.next_url)\n",
    "print(len(illusts))"
   ]
  },
  {
   "cell_type": "code",
   "execution_count": null,
   "id": "00ac1eba-d255-4c83-86ed-3e12a6cafc16",
   "metadata": {},
   "outputs": [],
   "source": [
    "print(illusts[0].title)\n",
    "print(illusts[-1].title)"
   ]
  },
  {
   "cell_type": "code",
   "execution_count": null,
   "id": "fb47e8a2-ada8-4505-9d82-a17f8e25efe3",
   "metadata": {},
   "outputs": [],
   "source": [
    "import json"
   ]
  },
  {
   "cell_type": "code",
   "execution_count": null,
   "id": "d35a0b50-a003-4303-af61-29dd5c7d92bf",
   "metadata": {},
   "outputs": [],
   "source": [
    "with open('export/fav_illusts.json', 'w') as f:\n",
    "    json.dump(illusts, f)"
   ]
  },
  {
   "cell_type": "code",
   "execution_count": null,
   "id": "0aed488e-105a-466a-8b9d-644f4ad66824",
   "metadata": {},
   "outputs": [],
   "source": [
    "illust_urls = {}\n",
    "for illust in illusts:\n",
    "    if 'meta_pages' in illust and len(illust['meta_pages']) > 0:\n",
    "        urls = []\n",
    "        for page in illust['meta_pages']:\n",
    "            if 'image_urls' not in page:\n",
    "                print(page)\n",
    "            urls.append(page['image_urls']['original'])\n",
    "        illust_urls[illust['id']] = urls\n",
    "    else:\n",
    "        illust_urls[illust['id']] = [illust['meta_single_page']['original_image_url']]"
   ]
  },
  {
   "cell_type": "code",
   "execution_count": null,
   "id": "5d3e4d86-4162-4f87-9dc8-0cd6d44380a4",
   "metadata": {},
   "outputs": [],
   "source": [
    "import pathlib"
   ]
  },
  {
   "cell_type": "code",
   "execution_count": null,
   "id": "d783a3ea-0a5b-4903-b108-bb5a8b69d9db",
   "metadata": {},
   "outputs": [],
   "source": [
    "illust_tasks = list(illust_urls.items())\n",
    "for i, (id, urls) in enumerate(illust_tasks):\n",
    "    if len(urls) <= 1:\n",
    "        try:\n",
    "            api.download(urls[0], path='export')\n",
    "        except:\n",
    "            print('failed at index %d id %s' % (i, id))\n",
    "            raise\n",
    "    else:\n",
    "        pathlib.Path('export/%s' % id).mkdir(exist_ok=True)\n",
    "        for j, url in enumerate(urls):\n",
    "            try:\n",
    "                api.download(url, path='export/%s' % id)\n",
    "            except:\n",
    "                print('failed at index %d-%d id %s' % (i, j, id))\n",
    "                raise"
   ]
  },
  {
   "cell_type": "markdown",
   "id": "04902c71-0f12-4d56-88f0-33acd7146fbc",
   "metadata": {},
   "source": [
    "- Remove images with the `limit_` prefix manually, which are not illustrations\n",
    "- For images with the `_ugoira0` suffix manually, they are ugoiras and need special handling to get the zip pack"
   ]
  },
  {
   "cell_type": "code",
   "execution_count": null,
   "id": "35c05cce-e5ed-45ab-a495-3f067d7a507b",
   "metadata": {},
   "outputs": [],
   "source": [
    "ugoira_ids = [illust['id'] for illust in illusts if illust['type'] == 'ugoira']"
   ]
  },
  {
   "cell_type": "code",
   "execution_count": null,
   "id": "0f252b8c-125b-4489-9702-40810cbf44c7",
   "metadata": {},
   "outputs": [],
   "source": [
    "ugoiras = [api.ugoira_metadata(id)['ugoira_metadata'] for id in ugoira_ids]"
   ]
  },
  {
   "cell_type": "code",
   "execution_count": null,
   "id": "36ed73af-5291-44b5-823c-0ca1b10d758c",
   "metadata": {},
   "outputs": [],
   "source": [
    "ugoira_meta = {ugoira_ids[i]: ugoira for i, ugoira in enumerate(ugoiras)}"
   ]
  },
  {
   "cell_type": "code",
   "execution_count": null,
   "id": "ec504f25-7243-48e9-8d61-97eecce3af81",
   "metadata": {},
   "outputs": [],
   "source": [
    "with open('export/fav_ugoira_meta.json', 'w') as f:\n",
    "    json.dump(ugoira_meta, f)"
   ]
  },
  {
   "cell_type": "code",
   "execution_count": null,
   "id": "6ee6cba5-203c-4f6a-be3f-a224d19851d4",
   "metadata": {},
   "outputs": [],
   "source": [
    "ugoira_urls = {ugoira_ids[i]: ugoira['zip_urls']['medium'] for i, ugoira in enumerate(ugoiras)}"
   ]
  },
  {
   "cell_type": "code",
   "execution_count": null,
   "id": "634c2d89-edda-4a57-ae38-2b5341f9f978",
   "metadata": {},
   "outputs": [],
   "source": [
    "# To get the original (or at least larger) ugoira\n",
    "ugoira_urls = {id: url.replace('600x600', '1920x1080') for id, url in ugoira_urls.items()}"
   ]
  },
  {
   "cell_type": "code",
   "execution_count": null,
   "id": "86cbe591-f2c1-41b0-8208-79a086c91657",
   "metadata": {},
   "outputs": [],
   "source": [
    "for _, url in ugoira_urls.items():\n",
    "    api.download(url, path='export')"
   ]
  }
 ],
 "metadata": {
  "kernelspec": {
   "display_name": "Python 3 (ipykernel)",
   "language": "python",
   "name": "python3"
  },
  "language_info": {
   "codemirror_mode": {
    "name": "ipython",
    "version": 3
   },
   "file_extension": ".py",
   "mimetype": "text/x-python",
   "name": "python",
   "nbconvert_exporter": "python",
   "pygments_lexer": "ipython3",
   "version": "3.11.3"
  }
 },
 "nbformat": 4,
 "nbformat_minor": 5
}
